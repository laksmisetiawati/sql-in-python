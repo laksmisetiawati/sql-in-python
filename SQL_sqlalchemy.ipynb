{
 "cells": [
  {
   "cell_type": "code",
   "execution_count": 27,
   "id": "ef34afb6-f6f0-44e0-be19-0add39190a2e",
   "metadata": {},
   "outputs": [
    {
     "name": "stdout",
     "output_type": "stream",
     "text": [
      "success load libraries!\n"
     ]
    }
   ],
   "source": [
    "# Load libraries\n",
    "import pandas as pd\n",
    "import psycopg2\n",
    "from sqlalchemy import create_engine, text\n",
    "from sqlalchemy.exc import OperationalError, SQLAlchemyError\n",
    "from sqlalchemy.orm import sessionmaker\n",
    "\n",
    "print(\"success load libraries!\")"
   ]
  },
  {
   "cell_type": "code",
   "execution_count": 28,
   "id": "4e59e082-c026-4274-bedb-d5d4854a777e",
   "metadata": {},
   "outputs": [],
   "source": [
    "# Database enviroment\n",
    "DATABASE = 'kumpulan_dataset_ls'\n",
    "USER = 'root'\n",
    "PASSWORD = 'password'\n",
    "HOST = '127.0. 0.1'\n",
    "PORT = '8888'\n",
    "SCHEMA = 'ecommerce_b2b'"
   ]
  },
  {
   "cell_type": "code",
   "execution_count": 29,
   "id": "0166d84c-4a2b-4af6-902a-d47fcffb5fde",
   "metadata": {},
   "outputs": [
    {
     "name": "stdout",
     "output_type": "stream",
     "text": [
      "Success connect to database!\n"
     ]
    }
   ],
   "source": [
    "# Create connection to database\n",
    "connection_string = (\n",
    "    f\"postgresql+psycopg2://{USER}:{PASSWORD}@{HOST}:{PORT}/{DATABASE}\"\n",
    "    f\"?options=-csearch_path={SCHEMA}&client_encoding=UTF8\"\n",
    ")\n",
    "engine = create_engine(connection_string)\n",
    "try:\n",
    "    with engine.connect() as connection:\n",
    "        print(\"Success connect to database!\")\n",
    "except OperationalError as e:\n",
    "    print(\"Failed connect to database!\")\n",
    "    print(e)"
   ]
  },
  {
   "cell_type": "code",
   "execution_count": 30,
   "id": "26a7fafe-2039-4e4c-808d-c5ff72243189",
   "metadata": {},
   "outputs": [
    {
     "data": {
      "text/html": [
       "<div>\n",
       "<style scoped>\n",
       "    .dataframe tbody tr th:only-of-type {\n",
       "        vertical-align: middle;\n",
       "    }\n",
       "\n",
       "    .dataframe tbody tr th {\n",
       "        vertical-align: top;\n",
       "    }\n",
       "\n",
       "    .dataframe thead th {\n",
       "        text-align: right;\n",
       "    }\n",
       "</style>\n",
       "<table border=\"1\" class=\"dataframe\">\n",
       "  <thead>\n",
       "    <tr style=\"text-align: right;\">\n",
       "      <th></th>\n",
       "      <th>product_id</th>\n",
       "      <th>product_name</th>\n",
       "      <th>price</th>\n",
       "      <th>main_cat</th>\n",
       "      <th>sub_cat1</th>\n",
       "      <th>sub_cat2</th>\n",
       "      <th>stock</th>\n",
       "      <th>weight</th>\n",
       "      <th>weight_unit</th>\n",
       "      <th>sold</th>\n",
       "      <th>quantity_sold</th>\n",
       "      <th>rating</th>\n",
       "      <th>total_rating</th>\n",
       "      <th>product_status</th>\n",
       "      <th>free_shipping_cost</th>\n",
       "    </tr>\n",
       "  </thead>\n",
       "  <tbody>\n",
       "    <tr>\n",
       "      <th>0</th>\n",
       "      <td>631abb0d1bf9801cbdc14394</td>\n",
       "      <td>SHARP Microwave Oven R-728(K)-IN</td>\n",
       "      <td>1550000</td>\n",
       "      <td>Elektronik</td>\n",
       "      <td>None</td>\n",
       "      <td>None</td>\n",
       "      <td>1</td>\n",
       "      <td>8</td>\n",
       "      <td>kg</td>\n",
       "      <td>6</td>\n",
       "      <td>8</td>\n",
       "      <td>0.0</td>\n",
       "      <td>0</td>\n",
       "      <td>Aktif</td>\n",
       "      <td>False</td>\n",
       "    </tr>\n",
       "    <tr>\n",
       "      <th>1</th>\n",
       "      <td>631abad9cdc00cf233d51b7c</td>\n",
       "      <td>PIPE,NON METALLIC - PIPE-3IN-PVC,AW-4M-MASPION</td>\n",
       "      <td>311900</td>\n",
       "      <td>Jasa Perawatan Peralatan &amp; Mesin</td>\n",
       "      <td>None</td>\n",
       "      <td>None</td>\n",
       "      <td>13</td>\n",
       "      <td>3000</td>\n",
       "      <td>gram</td>\n",
       "      <td>4</td>\n",
       "      <td>54</td>\n",
       "      <td>0.0</td>\n",
       "      <td>0</td>\n",
       "      <td>Aktif</td>\n",
       "      <td>True</td>\n",
       "    </tr>\n",
       "    <tr>\n",
       "      <th>2</th>\n",
       "      <td>631abad9cdc00cf233d51ad7</td>\n",
       "      <td>ROCKWOOL - ROCKWOOL-WIRE-D-50X900X500MM - 100K...</td>\n",
       "      <td>986500</td>\n",
       "      <td>Jasa Perawatan Peralatan &amp; Mesin</td>\n",
       "      <td>None</td>\n",
       "      <td>None</td>\n",
       "      <td>92</td>\n",
       "      <td>50000</td>\n",
       "      <td>gram</td>\n",
       "      <td>9</td>\n",
       "      <td>245</td>\n",
       "      <td>0.0</td>\n",
       "      <td>0</td>\n",
       "      <td>Aktif</td>\n",
       "      <td>True</td>\n",
       "    </tr>\n",
       "  </tbody>\n",
       "</table>\n",
       "</div>"
      ],
      "text/plain": [
       "                 product_id  \\\n",
       "0  631abb0d1bf9801cbdc14394   \n",
       "1  631abad9cdc00cf233d51b7c   \n",
       "2  631abad9cdc00cf233d51ad7   \n",
       "\n",
       "                                        product_name    price  \\\n",
       "0                   SHARP Microwave Oven R-728(K)-IN  1550000   \n",
       "1     PIPE,NON METALLIC - PIPE-3IN-PVC,AW-4M-MASPION   311900   \n",
       "2  ROCKWOOL - ROCKWOOL-WIRE-D-50X900X500MM - 100K...   986500   \n",
       "\n",
       "                           main_cat sub_cat1 sub_cat2  stock  weight  \\\n",
       "0                        Elektronik     None     None      1       8   \n",
       "1  Jasa Perawatan Peralatan & Mesin     None     None     13    3000   \n",
       "2  Jasa Perawatan Peralatan & Mesin     None     None     92   50000   \n",
       "\n",
       "  weight_unit  sold  quantity_sold  rating  total_rating product_status  \\\n",
       "0          kg     6              8     0.0             0          Aktif   \n",
       "1        gram     4             54     0.0             0          Aktif   \n",
       "2        gram     9            245     0.0             0          Aktif   \n",
       "\n",
       "   free_shipping_cost  \n",
       "0               False  \n",
       "1                True  \n",
       "2                True  "
      ]
     },
     "execution_count": 30,
     "metadata": {},
     "output_type": "execute_result"
    }
   ],
   "source": [
    "# Start your query\n",
    "q_products = \"SELECT * FROM products\"\n",
    "\n",
    "# Read your query\n",
    "df_products = pd.read_sql(q_products, engine)\n",
    "\n",
    "# Print the first few rows of the DataFrame\n",
    "df_products.head(3)"
   ]
  },
  {
   "cell_type": "code",
   "execution_count": null,
   "id": "43ba5419-04f5-4d1d-b733-1a7987b0e3a3",
   "metadata": {},
   "outputs": [],
   "source": []
  }
 ],
 "metadata": {
  "kernelspec": {
   "display_name": "Python 3 (ipykernel)",
   "language": "python",
   "name": "python3"
  },
  "language_info": {
   "codemirror_mode": {
    "name": "ipython",
    "version": 3
   },
   "file_extension": ".py",
   "mimetype": "text/x-python",
   "name": "python",
   "nbconvert_exporter": "python",
   "pygments_lexer": "ipython3",
   "version": "3.12.4"
  }
 },
 "nbformat": 4,
 "nbformat_minor": 5
}
